{
 "cells": [
  {
   "cell_type": "code",
   "execution_count": 24,
   "metadata": {},
   "outputs": [],
   "source": [
    "import requests\n",
    "import sys"
   ]
  },
  {
   "cell_type": "code",
   "execution_count": 35,
   "metadata": {},
   "outputs": [],
   "source": [
    "subscription_key = '1e9f1691dcbd43758eadb5f7c2ddbd3f' # your subscription key\n",
    "\n",
    "def get_token(subscription_key):\n",
    "    fetch_token_url = 'https://centralindia.api.cognitive.microsoft.com/sts/v1.0/issuetoken' # Api end-point to issue token based on your region!!\n",
    "    headers = {\n",
    "    'Ocp-Apim-Subscription-Key': subscription_key\n",
    "    }\n",
    "    response = requests.post(fetch_token_url, headers=headers)\n",
    "    access_token = str(response.text)\n",
    "    return access_token\n",
    "\n",
    "req_token = get_token(subscription_key) #suggested to generate a new access token every 9 minutes to avoid unnecessary traffic on the server.\n",
    "\n",
    "url = 'https://centralindia.stt.speech.microsoft.com/speech/recognition/conversation/cognitiveservices/v1?language=en-US' #api end-point along with the parameters. example : 'https://westus.stt.speech.microsoft.com/speech/recognition/conversation/cognitiveservices/v1?language=en-US.'\n",
    "f = '721901-1.wav' #your wav file path. Its very important to know the format of the audio file, bit rate, and the codec.\n",
    "f1=open(f, 'rb')\n"
   ]
  },
  {
   "cell_type": "code",
   "execution_count": 36,
   "metadata": {},
   "outputs": [],
   "source": [
    "headers = {\n",
    "'Accept': 'application/json;text/xml',\n",
    "'Content-Type': 'audio/wav; codecs=audio/pcm; samplerate=16000',\n",
    "'Ocp-Apim-Subscription-Key': subscription_key,\n",
    "'Authorization': req_token\n",
    "}"
   ]
  },
  {
   "cell_type": "code",
   "execution_count": 50,
   "metadata": {},
   "outputs": [
    {
     "name": "stdout",
     "output_type": "stream",
     "text": [
      "{\"Message\":\"Unsupported audio format\"}\n"
     ]
    }
   ],
   "source": [
    "r = requests.post(url, headers=headers, data = f1)\n",
    "\n",
    "print(r.text)"
   ]
  },
  {
   "cell_type": "code",
   "execution_count": 38,
   "metadata": {},
   "outputs": [],
   "source": [
    "f1=open(f, 'rb')"
   ]
  },
  {
   "cell_type": "code",
   "execution_count": 40,
   "metadata": {},
   "outputs": [],
   "source": [
    "import soundfile as sf"
   ]
  },
  {
   "cell_type": "code",
   "execution_count": 45,
   "metadata": {},
   "outputs": [],
   "source": [
    "f=sf.read('648071-1.wav')"
   ]
  },
  {
   "cell_type": "code",
   "execution_count": 44,
   "metadata": {},
   "outputs": [
    {
     "data": {
      "text/plain": [
       "_io.BufferedReader"
      ]
     },
     "execution_count": 44,
     "metadata": {},
     "output_type": "execute_result"
    }
   ],
   "source": [
    "type(f1)"
   ]
  },
  {
   "cell_type": "code",
   "execution_count": 46,
   "metadata": {},
   "outputs": [],
   "source": [
    "import io"
   ]
  },
  {
   "cell_type": "code",
   "execution_count": 49,
   "metadata": {},
   "outputs": [],
   "source": [
    "inmem=io.BytesIO(f[0])"
   ]
  },
  {
   "cell_type": "code",
   "execution_count": 51,
   "metadata": {},
   "outputs": [],
   "source": [
    "%matplotlib inline"
   ]
  },
  {
   "cell_type": "code",
   "execution_count": 52,
   "metadata": {},
   "outputs": [
    {
     "name": "stderr",
     "output_type": "stream",
     "text": [
      "usage: ipykernel_launcher.py [-h] [-l] [-d DEVICE] [-w DURATION] [-i INTERVAL]\n",
      "                             [-b BLOCKSIZE] [-r SAMPLERATE] [-n N]\n",
      "                             [CHANNEL [CHANNEL ...]]\n",
      "ipykernel_launcher.py: error: argument CHANNEL: invalid int value: '/run/user/1000/jupyter/kernel-26ab916a-4997-4ee7-b72b-a8dc865fe869.json'\n"
     ]
    },
    {
     "ename": "SystemExit",
     "evalue": "2",
     "output_type": "error",
     "traceback": [
      "An exception has occurred, use %tb to see the full traceback.\n",
      "\u001b[0;31mSystemExit\u001b[0m\u001b[0;31m:\u001b[0m 2\n"
     ]
    },
    {
     "name": "stderr",
     "output_type": "stream",
     "text": [
      "/home/infyblr/anaconda3/envs/voice/lib/python3.6/site-packages/IPython/core/interactiveshell.py:3304: UserWarning: To exit: use 'exit', 'quit', or Ctrl-D.\n",
      "  warn(\"To exit: use 'exit', 'quit', or Ctrl-D.\", stacklevel=1)\n"
     ]
    }
   ],
   "source": []
  },
  {
   "cell_type": "code",
   "execution_count": null,
   "metadata": {},
   "outputs": [],
   "source": []
  }
 ],
 "metadata": {
  "kernelspec": {
   "display_name": "Python (voice)",
   "language": "python",
   "name": "myenv"
  },
  "language_info": {
   "codemirror_mode": {
    "name": "ipython",
    "version": 3
   },
   "file_extension": ".py",
   "mimetype": "text/x-python",
   "name": "python",
   "nbconvert_exporter": "python",
   "pygments_lexer": "ipython3",
   "version": "3.6.8"
  }
 },
 "nbformat": 4,
 "nbformat_minor": 2
}
